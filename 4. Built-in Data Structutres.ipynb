{
 "cells": [
  {
   "cell_type": "markdown",
   "metadata": {},
   "source": [
    "# Built-in Data Structures"
   ]
  },
  {
   "cell_type": "markdown",
   "metadata": {},
   "source": [
    "- Data Structures are used to store multiple values in one variable\n"
   ]
  },
  {
   "cell_type": "markdown",
   "metadata": {},
   "source": [
    "## 5 Data Structures in Python\n",
    "- <b>List</b>\n",
    "- <b>Tuple</b>\n",
    "- <b>Set</b>\n",
    "- <b>Dictionary</b>\n",
    "- <b>String</b>\n",
    "- <b>OrderedDict</b>\n",
    "- <b>Defaultdict</b>\n",
    "- <b>Namedtuple</b>"
   ]
  },
  {
   "cell_type": "markdown",
   "metadata": {},
   "source": [
    "### List"
   ]
  },
  {
   "cell_type": "markdown",
   "metadata": {},
   "source": [
    "- <b>list</b> is a <b>Mutable</b> data structure which means you can change its values once you have created it\n",
    "- We used <b>Square</b> brackets to create lists\n",
    "- Values in the <b>list</b> are separated by commas (<b>,</b>)\n",
    "- <b>list</b> can be <b>indexed</b> which means you can access individual value from a list\n",
    "- <b>Note: </b>All the Data Structures which allow indexing can be indexed using the same syntax shown in the below code example\n",
    "- <b>Index</b> Position of any Data Structure in Python startes with <b>zero</b>\n",
    "- All the values in the list are called <b>Elements</b>"
   ]
  },
  {
   "cell_type": "markdown",
   "metadata": {},
   "source": [
    "#### Examples"
   ]
  },
  {
   "cell_type": "code",
   "execution_count": 4,
   "metadata": {},
   "outputs": [
    {
     "name": "stdout",
     "output_type": "stream",
     "text": [
      "[51]\n"
     ]
    }
   ],
   "source": [
    "list_example1 = [11, 92, 73, 14, 51]\n",
    "\n",
    "# To index a list we can use square brackets ( [ ] )\n",
    "# For example, to get the 1st element we can use\n",
    "\n",
    "list_example1[0]     #Output: 11, because indexes start from 0 and 11 is on the index 0\n",
    "list_example1[4]     #Output: 51, the element on index 4 is 51\n",
    "\n",
    "# Negative indexes are also valid\n",
    "list_example1[-1]    #Output: 51, negative indexes starts from -1\n",
    "\n",
    "list_example1[-3]    #Output: 73, the third element from the right\n",
    "\n",
    "# You can also get multiple values at one time using slicing\n",
    "list_example1[0:3]   #Output: [11, 92, 73], it starts from the index 0 and goes upo index 3 but excludes index 3\n",
    "list_example1[:2]    #Output: [11, 92], if you don't specify the start by default it is zero\n",
    "list_example1[-3:]   #Output: [73, 14, 51], if you don't specify the end it will print till the list is exhausted\n",
    "\n",
    "# We can use an step to skip values in between\n",
    "list_example1[0::2]   #Output: [11, 73, 51], we start off from 0 and go all the way uptpo the end of the list but jump\n",
    "                     # 2 values which come in between\n",
    "\n",
    "#Here's the code to reverse a list\n",
    "list_example1[-1::-1] #We start from -1 i.e. 51 and skip by -1 which is reversing\n",
    "\n",
    "#To check how many elements are there in a list, use len() function\n",
    "len(list_example1)   #Output: 5, because there are 5 elements in the list\n",
    "\n",
    "#To change the values of the list\n",
    "list_example1[0] = 'Van'  #the previous element which was present on index position 0 will be replaced by new element given"
   ]
  },
  {
   "cell_type": "markdown",
   "metadata": {},
   "source": [
    "#### Methods of Lists"
   ]
  },
  {
   "cell_type": "markdown",
   "metadata": {},
   "source": [
    "- Methods are functions which does some operation\n",
    "- Syntax for using a method is list_name.method_name (this syntax is same for all Data Structures)"
   ]
  },
  {
   "cell_type": "code",
   "execution_count": null,
   "metadata": {},
   "outputs": [],
   "source": [
    "# Methods\n",
    "methods_list_example1 = ['Gudio', 76, -78, 43, 0, 76]\n",
    "\n",
    "methods_list_example1.append(1010)          #adds 1010 to the end of the list, can only add one value\n",
    "\n",
    "methods_list_example1.clear()               #removes all the elements from the list\n",
    "\n",
    "copied_list = methods_list_example1.copy()  #copies all the elements from methods_list_example1 to copy_list\n",
    "\n",
    "methods_list_example1.count(76)             #Output: 2, because 76 has occured 2 times in the list\n",
    "\n",
    "methods_list_example1.extend(['Van', 67])   #Output: 'Van' and 67 will be added to the end of the list\n",
    "\n",
    "methods_list_example1.index('Guido')        #Output: 0, because the 'Guidio' is on index position 0\n",
    "\n",
    "methods_list_example1.insert(3, 'Van')      #87435 will be added to the index position 2, the previous element which was present\n",
    "                                            #on index 2 will be moved to index 3\n",
    "\n",
    "methods_list_example1.pop(-1)               #Removes the element which is on the index position -1 i.e. the last element.\n",
    "                                            #list.pop() removes the elements by index position\n",
    "    \n",
    "methods_list_example1.remove(76)            #Removes the first occurrence of 76, but it doesn't remove the next occurrences\n",
    "\n",
    "methods_list_example1.sort()                #Sorts the list in ascending order\n",
    "\n",
    "methods_list_example1.sort(reverse=True)    #Sorts in descending order\n",
    "\n",
    "#Therefore, you can't remember all the functions here's a shortcut for you to get all the functions\n",
    "\n",
    "#Step 1:\n",
    "    #Write the variable name\n",
    "    #Then write dot(.)\n",
    "    #Then press TAB key\n",
    "    #You will get a list of all the available functions of that var_name variable\n",
    "    \n",
    "    #Ex:\n",
    "        # methods_list_example1.TAB"
   ]
  },
  {
   "cell_type": "markdown",
   "metadata": {},
   "source": [
    "### Tuple"
   ]
  },
  {
   "cell_type": "markdown",
   "metadata": {},
   "source": [
    "- <b>tuple</b> is a <b>immutable</b> data structure which means you <b>can't</b> change its values once you have created it\n",
    "- We use <b>Parentheses</b> to create tuples\n",
    "- All the things are same in <b>list</b> and <b>tuple</b> except the above two points"
   ]
  },
  {
   "cell_type": "markdown",
   "metadata": {},
   "source": [
    "#### Examples"
   ]
  },
  {
   "cell_type": "code",
   "execution_count": null,
   "metadata": {},
   "outputs": [],
   "source": [
    "tuple_example1 = (24, 6, 2, 65.45, 234, -234)\n",
    "\n",
    "tuple_example1[3]          #Output: 65.45\n",
    "\n",
    "tuple_example1[2:4]        #Output: (2, 65.45)\n",
    "\n",
    "tuple_example1[::-2]       #Output: (-234, 65.45, 6)\n",
    "\n",
    "len(tuple_example1)        #Output: 6\n",
    "\n",
    "sum(tuple_example1)        #Output: 97.44999999999999"
   ]
  },
  {
   "cell_type": "markdown",
   "metadata": {},
   "source": [
    "#### Methods of Tuples"
   ]
  },
  {
   "cell_type": "code",
   "execution_count": null,
   "metadata": {},
   "outputs": [],
   "source": [
    "methods_tuple_example1 = ('tuple', 7798, 56.34, 56j, 7798)\n",
    "\n",
    "#Tuple has only two methods\n",
    "\n",
    "methods_tuple_example1.count(7798)      #Output: 2, because 7798 has occurred 2 times in the tuple\n",
    "\n",
    "methods_tuple_example1.index(56j)       #Output: 3, because 56j is on the index position 3 "
   ]
  },
  {
   "cell_type": "markdown",
   "metadata": {},
   "source": [
    "### Set"
   ]
  },
  {
   "cell_type": "markdown",
   "metadata": {},
   "source": [
    "- <b>Set</b> is a <b>Mutable</b> data structure\n",
    "- We use <b>Curly</b> brackets to create sets\n",
    "- Unlike lists and tuples sets <b>can't</b> be indexed\n",
    "- Set is a <b>Unordered</b> data structure which means that it automatically arranges the elements in <b>ascending</b> order\n",
    "- Set <b>won't allow duplicate</b> elements i.e. one element can't be repeated more than one time"
   ]
  },
  {
   "cell_type": "markdown",
   "metadata": {},
   "source": [
    "#### Examples"
   ]
  },
  {
   "cell_type": "code",
   "execution_count": null,
   "metadata": {},
   "outputs": [],
   "source": [
    "set_example1 = {90, -23, 2003, 78.56, 'Set'}\n",
    "\n",
    "set_example1[0]        #Output: error, because set can't be indexed\n",
    "\n",
    "type(set_example1)     #Output: set"
   ]
  },
  {
   "cell_type": "markdown",
   "metadata": {},
   "source": [
    "#### Methods of Sets"
   ]
  },
  {
   "cell_type": "code",
   "execution_count": null,
   "metadata": {},
   "outputs": [],
   "source": [
    "methods_set_example1 = {45, 98, -190, 4354.341}\n",
    "methods_set_example2 = {345, -190, 123, 45}\n",
    "\n",
    "methods_set_example1.add(0)    #Output: 0 will be added to the set, the whole order of the set will now be changed because it\n",
    "                               #needs to rearrange elements in ascending order\n",
    "\n",
    "methods_set_example1.clear()   #removes all the elements from the set, hence the set will be empty\n",
    "\n",
    "copied_set = methods_set_example1.copy()     #Copies all the elements from methods_set_example1 to copied_set\n",
    "\n",
    "methods_set_example1.difference(methods_set_example2)     #Output: {98, 4354.341}\n",
    "\n",
    "methods_set_example1.discard(98)     #Removes the element if it is present\n",
    "\n",
    "methods_set_example1.intersection(methods_set_example2)    #Output: {-190, 45}, gives the common elements from both sets\n",
    "\n",
    "methods_set_example1.isdisjoint(methods_set_example2)      #Output: False, a set is said to be disjoint if it has no commom\n",
    "                                                           #elements from the other set, in our example we have common elements\n",
    "                                                           #that's why the Output is False\n",
    "        \n",
    "methods_set_example1.issubset(methods_set_example2)    #Output: False, issubset() method returns True if all elements of a\n",
    "                                                       #set are present in another set, else returns False\n",
    "    \n",
    "methods_set_example1.issuperset(methods_set_example2)  #Output: False, issuperset() method returns True if a set has every\n",
    "                                                       #elements of another set, otherwise return False\n",
    "    \n",
    "methods_set_example1.pop()            #removes and returns a random element from the set\n",
    "\n",
    "methods_set_example1.remove(45)       #removes the element from the set if it is present, otherwise error will be thrown\n",
    "\n",
    "methods_set_example1.symmetric_difference(methods_set_example2)    #returns the uncommon elements from both sets\n",
    "\n",
    "methods_set_example1.union(methods_set_example2)    #joins the two sets\n",
    "\n",
    "methods_set_example1.update({345, 657, 2334})     #Updates the set with the given set"
   ]
  },
  {
   "cell_type": "markdown",
   "metadata": {},
   "source": [
    "### Dictionary "
   ]
  },
  {
   "cell_type": "markdown",
   "metadata": {},
   "source": [
    "- <b>dict</b> (or) dictionary is like a real world dictionary\n",
    "- It has <b>Keys</b> which are like the word you want to get the meaning of and it has <b>Values</b> which are meaning of the words\n",
    "- To create dictionaries we use <b>Curly</b> brackets\n",
    "- Instead of indexing using index position we use <b>Keys</b> to index dictionaries\n",
    "- Keys and Values are separated by <b>colon(:)</b>\n",
    "- Keys can be <b>Strings, ints, floats, booleans, tuples</b>"
   ]
  },
  {
   "cell_type": "markdown",
   "metadata": {},
   "source": [
    "#### Examples"
   ]
  },
  {
   "cell_type": "code",
   "execution_count": null,
   "metadata": {},
   "outputs": [],
   "source": [
    "dict_example1 = {\"key1\":\"value1\", \"key2\":\"value2\", 2:4}\n",
    "\n",
    "#To access 'value2'\n",
    "dict_example1['key2']\n",
    "\n",
    "#Remember, keys are case-sensitive\n",
    "dict_example1['Key1']   #Error because i've used lowercase 'k' while declaring the dictionary, but i am using uppercase 'K'\n",
    "                        #while calling it\n",
    "\n",
    "dict_example1[2]     #Output: 4\n",
    "\n",
    "#To add a new key value pair\n",
    "dict_example1[3] = 9   #key value pair {3:9} will be added to the dict_example1 dictionary \n",
    "\n",
    "#One key can have multiple values, you can give multiple values in either a list or tuple or set\n",
    "dict_example2 = {\"Names\":[\"Ronaldo\", \"Messi\", \"Neymar\"], \"Teams\":[\"Portugal\", \"Argentina\", \"Brazil\"]}\n",
    "\n",
    "dict_example2['Names']    #Output: [\"Ronaldo\", \"Messi\", \"Neymar\"]\n",
    "\n",
    "dict_example2['Teams'][1]    #Output: \"Argentina\", because \"Argentina\" is on the first index in Teams Key"
   ]
  },
  {
   "cell_type": "markdown",
   "metadata": {},
   "source": [
    "#### Methods of Dictionaries"
   ]
  },
  {
   "cell_type": "code",
   "execution_count": null,
   "metadata": {},
   "outputs": [],
   "source": [
    "methods_dict_example1 = {\"Name\":\"Zidane\", \"Age\":46, \"Team\":\"France\"}\n",
    "\n",
    "methods_dict_example1.clear()       #removes all the key value pairs from the dictionary\n",
    "\n",
    "copied_dict = methods_dict_example1.copy()   #copies all the key value pairs from methods_dict_example1 to copied_dict\n",
    "\n",
    "methods_dict_example1.get(\"Goals\")  #Output: Nothing, get() method returns the value if the key exists else it returns nothing\n",
    "\n",
    "methods_dict_example1.items()    #Output: returns all the key value pairs in a tuple form\n",
    "\n",
    "methods_dict_example1.keys()     #Output: returns all the keys in the form of a list\n",
    "\n",
    "methods_dict_example1.pop('Name') #Output: returns and removes the key value pair if the key is present else raises an error\n",
    "\n",
    "methods_dict_example1.popitem()    #Output: returns and removes random key value pair from dictionary\n",
    "\n",
    "methods_dict_example1.update({\"Goals\":31, \"Coach\":\"Real Madrid\"})   #Updates the dictionary with the given dictionary\n",
    "\n",
    "methods_dict_example1.values()     #Output: returns all the values in the form of a list"
   ]
  },
  {
   "cell_type": "markdown",
   "metadata": {},
   "source": [
    "### String "
   ]
  },
  {
   "cell_type": "markdown",
   "metadata": {},
   "source": [
    "- Use strings to store text data\n",
    "- Strings can be created using single quotes('') or double quotes (\"\") or triple quotes (''' (or) \"\"\")\n",
    "- Strings are <b>Immutable</b>."
   ]
  },
  {
   "cell_type": "markdown",
   "metadata": {},
   "source": [
    "#### Examples"
   ]
  },
  {
   "cell_type": "code",
   "execution_count": null,
   "metadata": {},
   "outputs": [],
   "source": [
    "learning = 'Python'   # Single quotes ''\n",
    "topic = \"Strings\"     # Double quotes\n",
    "describe = '''Store text using strings'''  # triple single quotes\n",
    "describe2 = \"\"\"Store text using single and double strings\"\"\"   # triple double strings\n",
    "\n",
    "# Indexing\n",
    "\n",
    "learning[1]    # Output: 'y'\n",
    "learning[2:6]  # Output: 'thon'\n",
    "learning[::2]  # Output: 'Pto'"
   ]
  },
  {
   "cell_type": "markdown",
   "metadata": {},
   "source": [
    "#### Methods of Strings"
   ]
  },
  {
   "cell_type": "code",
   "execution_count": null,
   "metadata": {},
   "outputs": [],
   "source": [
    "sample = 'Data types'\n",
    "\n",
    "# There are many methods of strings, we'll only look at few of them.\n",
    "\n",
    "sample.capitalize()     # Output: 'Data types'\n",
    "\n",
    "sample.index('a')       # Output: 1, first occurence of the argument given\n",
    "\n",
    "sample.lower()          # Output: 'data types', returns the lowercase representation\n",
    "\n",
    "sample.upper()          # Output: 'DATA TYPES', returns the uppercase representation\n",
    "\n",
    "sample.swapcase()       # Output: 'dATA TYPES', swaps uppercase to lowercase and vice versa"
   ]
  },
  {
   "cell_type": "markdown",
   "metadata": {},
   "source": [
    "<a href='https://www.programiz.com/python-programming/methods/string'>Link to all methods of a string</a>"
   ]
  },
  {
   "cell_type": "markdown",
   "metadata": {},
   "source": [
    "### Ordered Dict"
   ]
  },
  {
   "cell_type": "markdown",
   "metadata": {},
   "source": [
    "- Dictionary which remembers the <b>order</b> in which keys and values are inserted\n",
    "- The properties of OrderedDict are similar to that of a Dictionary"
   ]
  },
  {
   "cell_type": "markdown",
   "metadata": {},
   "source": [
    "#### Examples"
   ]
  },
  {
   "cell_type": "code",
   "execution_count": null,
   "metadata": {},
   "outputs": [],
   "source": [
    "# Before using OrderedDict you need to import it from a module named collections\n",
    "# We'll learn more about modules later\n",
    "\n",
    "from collections import OrderedDict\n",
    "\n",
    "players = OrderedDict({\"Ronaldo\":\"Real Madrid\", \"Neymar\":\"Real Madrid\", \"Messi\":\"Barcelona\"})\n",
    "\n",
    "type(players)        #Output: collections.OrderedDict\n",
    "\n",
    "players[\"Ronaldo\"]   #Output:  \"Real Madrid\" \n",
    "\n",
    "# pretty much everything you do with dictionary is similar to OrderedDict except the order\n",
    "# However, from Python 3.7, Regular Dictionaries are ORDERED, so you need not use OrderedDict everytime"
   ]
  },
  {
   "cell_type": "markdown",
   "metadata": {},
   "source": [
    "### Default dict"
   ]
  },
  {
   "cell_type": "markdown",
   "metadata": {},
   "source": [
    "- Default dict is used to give a default value to a key which is not present in the dictionary\n",
    "- All the methods and attributes of Default dict are similar to regular dictionaries"
   ]
  },
  {
   "cell_type": "markdown",
   "metadata": {},
   "source": [
    "#### Examples"
   ]
  },
  {
   "cell_type": "code",
   "execution_count": null,
   "metadata": {},
   "outputs": [],
   "source": [
    "# Since, default dict is present in collections module, we'll import it from there\n",
    "\n",
    "from collections import defaultdict\n",
    "\n",
    "player = defaultdict(lambda: \"Invalid Key\")    #This is a lambda function, we'll learn about it in next lessons\n",
    "\n",
    "player['Name'] = 'Ronaldo'\n",
    "player['Team'] = 'Portugal'\n",
    "\n",
    "print(player['Name'])    #Output: Ronaldo\n",
    "print(player['Age'])     #Output: Invalid Key, because 'Age' is not present in player dictionary the 'Invalid Key'\n",
    "                         #will be assigned to the key 'Age' \n",
    "    \n",
    "\n",
    "roll_nos = defaultdict(int)\n",
    "\n",
    "roll_nos['Josh'] = 89\n",
    "roll_nos['Dan'] = 78\n",
    "roll_nos['Kane'] = 12\n",
    "\n",
    "print(roll_nos['Dan'])     #Output: 78\n",
    "print(roll_nos['William']) #Output: 0, because if you specify 'int' in \"defaultdict(int)\" \n",
    "                           #the default value will be 0, in the same way if you specify 'defaultdict(float)'\n",
    "                           #the default value will br 0.0\n",
    "        \n"
   ]
  },
  {
   "cell_type": "markdown",
   "metadata": {},
   "source": [
    "### NamedTuple"
   ]
  },
  {
   "cell_type": "markdown",
   "metadata": {},
   "source": [
    "- Named tuple are used to give names to the elements of a tuple\n",
    "- You can access a Named tuple's elements using the index position or the name of the element"
   ]
  },
  {
   "cell_type": "markdown",
   "metadata": {},
   "source": [
    "#### Examples"
   ]
  },
  {
   "cell_type": "code",
   "execution_count": null,
   "metadata": {},
   "outputs": [],
   "source": [
    "# We'll import namedtuple from collections module\n",
    "\n",
    "from collections import namedtuple\n",
    "\n",
    "info = namedtuple('Players', ['Name', 'Age', 'Team'])\n",
    "\n",
    "zidane = info('Zidane', 46, 'France')\n",
    "\n",
    "zidane.Name     #Output: 'Zidane'\n",
    "zidane[1]       #Output: 46\n",
    "\n",
    "# One advantage of using named tuples over regular tuples is the code readability\n",
    "# As the Zen of Python quotes, \"Readability counts\""
   ]
  }
 ],
 "metadata": {
  "kernelspec": {
   "display_name": "Python 3",
   "language": "python",
   "name": "python3"
  },
  "language_info": {
   "codemirror_mode": {
    "name": "ipython",
    "version": 3
   },
   "file_extension": ".py",
   "mimetype": "text/x-python",
   "name": "python",
   "nbconvert_exporter": "python",
   "pygments_lexer": "ipython3",
   "version": "3.6.5"
  }
 },
 "nbformat": 4,
 "nbformat_minor": 2
}
