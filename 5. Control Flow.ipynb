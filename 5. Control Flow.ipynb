{
 "cells": [
  {
   "cell_type": "markdown",
   "metadata": {},
   "source": [
    "# Conditional Statements"
   ]
  },
  {
   "cell_type": "markdown",
   "metadata": {},
   "source": [
    "- As the name suggets, conditional statments perform different operations depending on different conditions\n",
    "- If the statement evaluates to True, the operation is performed else it's not performed"
   ]
  },
  {
   "cell_type": "markdown",
   "metadata": {},
   "source": [
    "## if-elif-else\n",
    "- Python supports three keywords to use while wrting conditional statements\n",
    "    - if\n",
    "    - elif\n",
    "    - else"
   ]
  },
  {
   "cell_type": "markdown",
   "metadata": {},
   "source": [
    "### Examples"
   ]
  },
  {
   "cell_type": "code",
   "execution_count": null,
   "metadata": {},
   "outputs": [],
   "source": [
    "age = int(input(\"Enter your age: \"))     #this is a function which takes integer as its input, we'll learn more\n",
    "                                         #functions in later chapters\n",
    "    \n",
    "if (age < 18):\n",
    "    print(\"You are not eligible to vote :(\")\n",
    "elif age == 18:\n",
    "    print(\"Congractulations, you just became eligible :):)\")\n",
    "else:\n",
    "    print(\"Yeah, you can vote :)\")\n",
    "    \n",
    "                                         #if you enter the age as less than 18 it will print You are not eligible\n",
    "                                         #to vote, if the age is equal to 18 Congractulations, you just became\n",
    "                                         #eligible, if it's greater than 18 Yeah, you can vote.\n",
    "                \n",
    "#There can be as many as 'elif' statements, but only one 'if' and 'else' should be there.\n",
    "#'else' should come at the end and 'if' should come in the beginning"
   ]
  },
  {
   "cell_type": "markdown",
   "metadata": {},
   "source": [
    "## Loops\n",
    "- loops are used to do something repetitive\n",
    "- Two types of loops in Python\n",
    "    - for loops\n",
    "    - while loops"
   ]
  },
  {
   "cell_type": "markdown",
   "metadata": {},
   "source": [
    "### for loops\n",
    "- for loops are used when you know how many times you are going to repeat something\n"
   ]
  },
  {
   "cell_type": "markdown",
   "metadata": {},
   "source": [
    "#### Examples"
   ]
  },
  {
   "cell_type": "code",
   "execution_count": null,
   "metadata": {},
   "outputs": [],
   "source": [
    "#Below program prints the entered name 10 times\n",
    "\n",
    "name = input(\"Enter your name: \")\n",
    "\n",
    "for i in range(1, 11):\n",
    "    print('Hello', name)\n",
    "    \n",
    "#The syntax of 'for' loop is\n",
    "# 1)keyword 'for'\n",
    "# 2)variabe name to iterate over 'i' -> you can give any name you want\n",
    "# 3)keyword 'in'\n",
    "# 4)if you want to do something repetitive use range(11)\n",
    "# 5)colon\n",
    "\n",
    "#How range() works?\n",
    "    #range(1, 11, 2), range()  takes three arguments first one start point where to start, next one end point and\n",
    "    #finally the step. It is similar to indexing of a list.\n",
    "    #NOTE: If you write range(10), it will internally be represented as range(0, 10), 10 won't be included upto 9\n",
    "    #By default the end point is not included in range() function.\n",
    "    \n",
    "\n",
    "teams = {\"Ronaldo\":\"Portugal\", \"Neymar\":\"Brazil\", \"Zidane\":\"France\", \"Messi\":\"Argentina\"}\n",
    "\n",
    "for player, team in teams.items():\n",
    "    print(player,'plays for',team)\n",
    "    \n",
    "#the output will be:\n",
    "#Ronaldo plays for Portugal\n",
    "...\n",
    "#Messi plays for Argentina\n",
    "\n",
    "scores = [45.90, 123, 657.56, 12, 758]\n",
    "\n",
    "for score in scores:\n",
    "    print(score)\n",
    "    \n",
    "#The output will be\n",
    "#45.90\n",
    "#...\n",
    "#758"
   ]
  },
  {
   "cell_type": "markdown",
   "metadata": {},
   "source": [
    "### while loops"
   ]
  },
  {
   "cell_type": "markdown",
   "metadata": {},
   "source": [
    "- while loops are a complement of for loops which means they are used when you don't know how many times you need to repeat something\n",
    "- while loop only runs if the given condition is True"
   ]
  },
  {
   "cell_type": "markdown",
   "metadata": {},
   "source": [
    "#### Examples"
   ]
  },
  {
   "cell_type": "code",
   "execution_count": null,
   "metadata": {},
   "outputs": [],
   "source": [
    "#Here's a program that prints your name 10 times\n",
    "\n",
    "name = input(\"Enter your name: \")\n",
    "\n",
    "i = 0\n",
    "\n",
    "while i < 10:\n",
    "    print(name)\n",
    "    i = i + 1\n",
    "    \n",
    "#Syntax of while loop\n",
    "#1) Keyword 'while'\n",
    "#2) condition\n",
    "#3) Colon\n",
    "\n",
    "#Below is the code that prints fibonacci series upto nth term\n",
    "\n",
    "n = int(input(\"Enter number of terms: \"))\n",
    "i = 0\n",
    "a = 0\n",
    "b = 1\n",
    "while a < n:\n",
    "    print(a)\n",
    "    a, b = b, a+b\n",
    "    \n",
    "#If you want to do something till the end of time\n",
    "\n",
    "while True:\n",
    "    print(\"I won't stop\")   #Be careful, this program will keep on running, it wont stop until you press CTRL-C.\n",
    "    \n",
    "\n",
    "#Here's a program to add natural numbers upto n\n",
    "\n",
    "n = int(input(\"How many numbers do you want to add till? \"))\n",
    "\n",
    "i = 1\n",
    "\n",
    "total = 0\n",
    "\n",
    "while i <= n:\n",
    "    total += i\n",
    "    i += 1\n",
    "    \n",
    "    \n",
    "# If you would have entered 5 as n value then the output would be 15, because 1 + 2 + 3 + 4 + 5 = 15"
   ]
  },
  {
   "cell_type": "markdown",
   "metadata": {},
   "source": [
    "### break and continue statements"
   ]
  },
  {
   "cell_type": "markdown",
   "metadata": {},
   "source": [
    "- break is used to terminate a loop if a certain condition is met\n",
    "- continue is used to skip the rest of the code for this iteration"
   ]
  },
  {
   "cell_type": "markdown",
   "metadata": {},
   "source": [
    "#### Examples"
   ]
  },
  {
   "cell_type": "code",
   "execution_count": null,
   "metadata": {},
   "outputs": [],
   "source": [
    "#Here i write a program which asks for a positive number as input\n",
    "\n",
    "#BREAK statement\n",
    "\n",
    "while True:\n",
    "    number = int(input(\"Enter a positive number: \"))\n",
    "    \n",
    "    if number > 0:\n",
    "        print(\"Thank you for entering a positive number\")\n",
    "        break\n",
    "        \n",
    "    else:\n",
    "        print(\"Please enter a positive number\\n\")\n",
    "        \n",
    "#This program will continue to run until you enter a positive number i.e. a number greater than 0\n",
    "#break and continue can be used in both for and while loops\n",
    "\n",
    "teams = ['France', 'Brazil', 'Portugal', 'Argentina', 'Croatia']\n",
    "#Since, Portugal isn't my favourite team, while iterating over this list i will skip and do not print Portugal\n",
    "\n",
    "for team in teams:\n",
    "    if team == 'Portugal':\n",
    "        continue\n",
    "    print(team)\n",
    "    \n",
    "#The output will be:\n",
    "# France\n",
    "# Brazil\n",
    "# Argentina\n",
    "# Croatia\n",
    "# As you can see it didn't print Portugal"
   ]
  },
  {
   "cell_type": "markdown",
   "metadata": {},
   "source": [
    "### Loops with an else block"
   ]
  },
  {
   "cell_type": "markdown",
   "metadata": {},
   "source": [
    "- Yes, you heard it right, loops also have an else block\n",
    "- else block in a loop is executed when the loop reaches its end\n",
    "- Both for and while loops have an else block"
   ]
  },
  {
   "cell_type": "markdown",
   "metadata": {},
   "source": [
    "#### Examples"
   ]
  },
  {
   "cell_type": "code",
   "execution_count": null,
   "metadata": {},
   "outputs": [],
   "source": [
    "#else block with a for loop\n",
    "\n",
    "for i in range(1, 6):\n",
    "    print(\"Number: \", i)\n",
    "else:\n",
    "    print(\"The loop has been ended\")\n",
    "    \n",
    "#First it would print numbers 1...5 and then in the end \"The loop has been ended\"\n",
    "#NOTE: 'else' block won't work if you have a break statement in your loop\n",
    "\n",
    "#For example:\n",
    "teams = ['France', 'Brazil', 'Portugal', 'Argentina', 'Croatia']\n",
    "for team in teams:\n",
    "    if team == 'Portugal':\n",
    "        break\n",
    "    print(team)\n",
    "else:\n",
    "    print(\"I only had these many teams\")\n",
    "    \n",
    "#If you run the above program, you would notice that \"I only had these many teams\" won't be printed, because the\n",
    "#loop has a break statement\n",
    "\n",
    "#else block with a while loop\n",
    "#the condition is also same with the while loop i.e. if it has a break statement, 'else' block won't execute\n",
    "\n",
    "i = 0\n",
    "while i < 10:\n",
    "    print(i)\n",
    "    i += 1\n",
    "else:\n",
    "    print(\"The while loop has been ended\")"
   ]
  }
 ],
 "metadata": {
  "kernelspec": {
   "display_name": "Python 3",
   "language": "python",
   "name": "python3"
  },
  "language_info": {
   "codemirror_mode": {
    "name": "ipython",
    "version": 3
   },
   "file_extension": ".py",
   "mimetype": "text/x-python",
   "name": "python",
   "nbconvert_exporter": "python",
   "pygments_lexer": "ipython3",
   "version": "3.6.5"
  }
 },
 "nbformat": 4,
 "nbformat_minor": 2
}
