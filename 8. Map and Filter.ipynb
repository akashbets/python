{
 "cells": [
  {
   "cell_type": "markdown",
   "metadata": {},
   "source": [
    "# Built-in Functions <b>Map</b> and <b>Filter</b>"
   ]
  },
  {
   "cell_type": "markdown",
   "metadata": {},
   "source": [
    "- <b>Map</b> function is a good replacement for <b>for</b> loops in some cases\n",
    "- <b>Filter</b> function is used to filter the data"
   ]
  },
  {
   "cell_type": "markdown",
   "metadata": {},
   "source": [
    "## Map function"
   ]
  },
  {
   "cell_type": "markdown",
   "metadata": {},
   "source": [
    "### Examples"
   ]
  },
  {
   "cell_type": "code",
   "execution_count": null,
   "metadata": {},
   "outputs": [],
   "source": [
    "# Syntax of Map function is\n",
    "# map(function, sequence)\n",
    "\n",
    "# Let's say we have a list, and you want to squre each element.\n",
    "a = [1, 2, 3, 4, 5]\n",
    "def square(x):\n",
    "    return x**2\n",
    "list(map(square, a))   # Output: [1, 4, 9, 16, 25]\n",
    "\n",
    "# You could have also wrote the above function as\n",
    "list(map(lambda x: x**2, a))\n",
    "\n",
    "# Let's look at another example,\n",
    "num1 = [4, 5, 6]\n",
    "num2 = [7, 8, 9]\n",
    "# we want to add corresponding element of num1 with correspoinding elements of num2 i.e 4 + 7 and 5 + 8 etc.\n",
    "list(map(lambda a,b: a+b, num1,num2))    # Output: [11, 13, 15]"
   ]
  },
  {
   "cell_type": "markdown",
   "metadata": {},
   "source": [
    "## Filter function"
   ]
  },
  {
   "cell_type": "code",
   "execution_count": null,
   "metadata": {},
   "outputs": [],
   "source": [
    "# Syntax of Filter function is\n",
    "# filter(function, sequence)\n",
    "\n",
    "# Let's write a function that filters out negative numbers\n",
    "def negative(x):\n",
    "    if x < 0:\n",
    "        return False\n",
    "    else:\n",
    "        return True\n",
    "a = [9, 1, -5, 2, -1, -2]\n",
    "list(filter(negative, a))   # Output: [9, 1, 2]\n",
    "# Using lambda functions\n",
    "list(filter(lambda x: True if x > 0 else False, a))  # Same output.\n"
   ]
  }
 ],
 "metadata": {
  "kernelspec": {
   "display_name": "Python 3",
   "language": "python",
   "name": "python3"
  },
  "language_info": {
   "codemirror_mode": {
    "name": "ipython",
    "version": 3
   },
   "file_extension": ".py",
   "mimetype": "text/x-python",
   "name": "python",
   "nbconvert_exporter": "python",
   "pygments_lexer": "ipython3",
   "version": "3.6.5"
  }
 },
 "nbformat": 4,
 "nbformat_minor": 2
}
