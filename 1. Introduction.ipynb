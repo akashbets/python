{
 "cells": [
  {
   "cell_type": "markdown",
   "metadata": {},
   "source": [
    "# What is Python?"
   ]
  },
  {
   "cell_type": "markdown",
   "metadata": {},
   "source": [
    "- Python was developed by <b>Guido Van Rossum</b> and was first released in 1991\n",
    "- Python is an object-oriented, interpreted or dynamic, high-level programming language"
   ]
  },
  {
   "cell_type": "markdown",
   "metadata": {},
   "source": [
    "### Python Variables are Pointers"
   ]
  },
  {
   "cell_type": "markdown",
   "metadata": {},
   "source": [
    "- Python variables are actually <b>pointers</b>.\n",
    "- Which means they only hold the address where the object is stored not the whole object"
   ]
  },
  {
   "cell_type": "markdown",
   "metadata": {},
   "source": [
    "### Everything is an Object"
   ]
  },
  {
   "cell_type": "markdown",
   "metadata": {},
   "source": [
    "- Everthing in Python is an <b>Object</b>\n",
    "- Object: Anything which occupies space and time"
   ]
  },
  {
   "cell_type": "markdown",
   "metadata": {},
   "source": [
    "### Jupyter Notebook Shortcuts"
   ]
  },
  {
   "cell_type": "markdown",
   "metadata": {},
   "source": [
    "- <b>CTRL + SHIFT + P</b> for all the shortcuts\n",
    "- <b>ESC</b> to go to command mode where you can naviagate around with arrow keys\n",
    "- While in <b>Command Mode</b>:\n",
    "    - Press <b>A</b> to insert a cell above the current cell\n",
    "    - Press <b>B</b> to insert a cell below the current cell\n",
    "    - Press <b>M</b> to convert the cell to Markdown where you can write Notes\n",
    "    - Press <b>Y</b> to convert the cell back to Code\n",
    "    - Press <b>ENTER</b> to go to Edit Mode\n",
    "    - Press <b>SHIFT + K</b> to select above cells\n",
    "    - Press <b>SHIFT + J</b> to select below cells\n",
    "- Press <b>SHIFT + TAB</b> to get the documentation of an object\n",
    "- Type <b>%%bash</b> to execute command line commands\n",
    "- Go to <b>Cell</b> in the top Menu Bar and select <b>Run All</b> to run all the cells\n",
    "- <b>Double click</b> on the output of a cell to hide the output"
   ]
  },
  {
   "cell_type": "markdown",
   "metadata": {},
   "source": [
    "### Simple Program"
   ]
  },
  {
   "cell_type": "code",
   "execution_count": 1,
   "metadata": {},
   "outputs": [
    {
     "name": "stdout",
     "output_type": "stream",
     "text": [
      "Hello, Python\n"
     ]
    }
   ],
   "source": [
    "# Here's a program that prints Hello, Python\n",
    "print('Hello, Python')"
   ]
  }
 ],
 "metadata": {
  "kernelspec": {
   "display_name": "Python 3",
   "language": "python",
   "name": "python3"
  },
  "language_info": {
   "codemirror_mode": {
    "name": "ipython",
    "version": 3
   },
   "file_extension": ".py",
   "mimetype": "text/x-python",
   "name": "python",
   "nbconvert_exporter": "python",
   "pygments_lexer": "ipython3",
   "version": "3.6.5"
  }
 },
 "nbformat": 4,
 "nbformat_minor": 2
}
