{
 "cells": [
  {
   "cell_type": "markdown",
   "metadata": {},
   "source": [
    "# Generators"
   ]
  },
  {
   "cell_type": "markdown",
   "metadata": {},
   "source": [
    "- Generators are functions that returns an interator which we can iterate over one at a time\n",
    "- Generator functions contain a yield statement in them\n",
    "- Generators don’t compute the value of each item when instantiated. They only compute it when you ask for it."
   ]
  },
  {
   "cell_type": "markdown",
   "metadata": {},
   "source": [
    "### Examples"
   ]
  },
  {
   "cell_type": "code",
   "execution_count": null,
   "metadata": {
    "collapsed": true
   },
   "outputs": [],
   "source": [
    "# Let's write a simple generator\n",
    "\n",
    "def generator(n):\n",
    "    for i in range(1, n+1):\n",
    "        yield i\n",
    "        \n",
    "gen = generator(10)          # Calling the generator and saving it in the variable gen\n",
    "type(gen)                    #Output: <generator object gen at 0x5fa678be4320>\n",
    "\n",
    "# To access the next element we'll use next() function,\n",
    "next(gen)                    #Output: 1\n",
    "next(gen)                    #Output: 2\n",
    "next(gen)                    #Output: 3\n",
    "\n",
    "#After running next(gen) 10 times,\n",
    "next(gen)                    #Output: StopIteration:\n",
    "\n",
    "# You can either use next() function everytime, you want to call it, or use a loop.\n",
    "\n",
    "gen2 = generator(20)\n",
    "\n",
    "for i in gen2:\n",
    "    print(i)                  #Output: Numbers from 1 to 20 will be printed\n",
    "    \n",
    "# Now let's write a generator that reverses a string,\n",
    "\n",
    "def reverse_string(string):\n",
    "    length = len(string)\n",
    "    for i in range(length - 1, -1, -1):\n",
    "        yield string[i]\n",
    "        \n",
    "# Let's call the function,\n",
    "\n",
    "for c in reverse_string('testing'):\n",
    "    print(c)                          # First it will ask for the input, then it will reverse the string"
   ]
  },
  {
   "cell_type": "markdown",
   "metadata": {},
   "source": [
    "## Generator Expressions"
   ]
  },
  {
   "cell_type": "markdown",
   "metadata": {},
   "source": [
    "- Instead of writing functions everytime to implement generators, we can use Generator Expressions\n",
    "- Use <b>( )</b> to write generator expressions"
   ]
  },
  {
   "cell_type": "markdown",
   "metadata": {},
   "source": [
    "### Examples"
   ]
  },
  {
   "cell_type": "code",
   "execution_count": null,
   "metadata": {
    "collapsed": true
   },
   "outputs": [],
   "source": [
    "# Let's write a generator expression, that returns the square of a number\n",
    "square = (x**2 for x in range(1, 11))\n",
    "for i in square:\n",
    "    print(i, end=', ')          #Output: 1, 4, 9, ... , 100\n",
    "\n",
    "    \n",
    "# Writing the above Generator Expressions using Generators\n",
    "def square2():\n",
    "    for i in range(1, 11):\n",
    "        yield i**2\n",
    "\n",
    "        \n",
    "# Generator Expression for eligibility of vote\n",
    "age = int(input(\"Enter your age: \"))\n",
    "can_vote = ('yes' if age >= 18 else 'No')\n",
    "\n",
    "# Function to cube all the elements of a list\n",
    "numbers = [1, 4, 2, 6, 9]\n",
    "cubing = (num**3 for num in numbers)\n",
    "next(cubing)                    #Output: 1\n",
    "next(cubing)                    #Output: 64\n",
    "\n",
    "# Generator Expressions with loops and conidional statments\n",
    "ages = [23, 7, 12, 89, 34, 18, 25]\n",
    "vote = ('yes' if age >= 18 else 'No' for age in ages)\n",
    "for i in vote:\n",
    "    print(i)                    #Output: yes, No, No, Yes ... Yes\n",
    "    \n",
    "\n",
    "# number is odd or even\n",
    "for i in range(int(input(\"How many numbers you have? \"))):\n",
    "    num = int(input(f'Enter number {i+1}: '))\n",
    "    odd_even = ('Even' if num % 2 == 0 else 'Odd')\n",
    "    print(f'{num} is {odd_even}')"
   ]
  }
 ],
 "metadata": {
  "kernelspec": {
   "display_name": "Python 3",
   "language": "python",
   "name": "python3"
  },
  "language_info": {
   "codemirror_mode": {
    "name": "ipython",
    "version": 3
   },
   "file_extension": ".py",
   "mimetype": "text/x-python",
   "name": "python",
   "nbconvert_exporter": "python",
   "pygments_lexer": "ipython3",
   "version": "3.6.3"
  }
 },
 "nbformat": 4,
 "nbformat_minor": 2
}
