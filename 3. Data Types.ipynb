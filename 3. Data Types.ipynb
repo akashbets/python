{
 "cells": [
  {
   "cell_type": "markdown",
   "metadata": {},
   "source": [
    "# Data Types"
   ]
  },
  {
   "cell_type": "markdown",
   "metadata": {},
   "source": [
    "- Now we'll see all the different types of data types in Python i.e. what types of data can you store"
   ]
  },
  {
   "cell_type": "markdown",
   "metadata": {},
   "source": [
    "## 4 Data types in Python\n",
    "- <b>int</b>\n",
    "- <b>float</b>\n",
    "- <b>complex</b>\n",
    "- <b>bool</b>"
   ]
  },
  {
   "cell_type": "markdown",
   "metadata": {},
   "source": [
    "### Integer (int)"
   ]
  },
  {
   "cell_type": "markdown",
   "metadata": {},
   "source": [
    "- <b>int</b> is used to store integer values i.e. values from negative infinity to positive infinity\n"
   ]
  },
  {
   "cell_type": "markdown",
   "metadata": {},
   "source": [
    "#### Example"
   ]
  },
  {
   "cell_type": "code",
   "execution_count": 1,
   "metadata": {},
   "outputs": [
    {
     "data": {
      "text/plain": [
       "int"
      ]
     },
     "execution_count": 1,
     "metadata": {},
     "output_type": "execute_result"
    }
   ],
   "source": [
    "int_example1 = 345435\n",
    "int_example2 = -23876\n",
    "int_example3 = 0\n",
    "int_example4 = 38465 + 128759 - 2837643\n",
    "\n",
    "# You can use type() function to check which data type a variable has\n",
    "\n",
    "type(int_example1)    # Output: int, because int_example1 variable is of type 'int'"
   ]
  },
  {
   "cell_type": "markdown",
   "metadata": {},
   "source": [
    "### Decimal (float)"
   ]
  },
  {
   "cell_type": "markdown",
   "metadata": {},
   "source": [
    "- <b>float</b> is used to store the values which have decimal points in them"
   ]
  },
  {
   "cell_type": "markdown",
   "metadata": {},
   "source": [
    "#### Example"
   ]
  },
  {
   "cell_type": "code",
   "execution_count": 2,
   "metadata": {},
   "outputs": [
    {
     "data": {
      "text/plain": [
       "float"
      ]
     },
     "execution_count": 2,
     "metadata": {},
     "output_type": "execute_result"
    }
   ],
   "source": [
    "float_example1 = 3.141592653589\n",
    "float_example2 = -2938.2383\n",
    "float_example3 = 34543.0\n",
    "float_example4 = 76 / 12       # division in Python always returns a floating point number\n",
    "\n",
    "type(float_example2)"
   ]
  },
  {
   "cell_type": "markdown",
   "metadata": {},
   "source": [
    "### Imaginary (complex)"
   ]
  },
  {
   "cell_type": "markdown",
   "metadata": {},
   "source": [
    "- <b>complex</b> is used to work with imaginary numbers which are denoted by <b>i</b> in Math\n",
    "- But in Python instead of denoting imaginary numbers as <b>i</b>, we denote them as <b>j</b> or <b>J</b>\n",
    "- In complex numbers there is a <b>real</b> part (optional part) and an <b>imaginary</b> part."
   ]
  },
  {
   "cell_type": "markdown",
   "metadata": {},
   "source": [
    "#### Examples"
   ]
  },
  {
   "cell_type": "code",
   "execution_count": 3,
   "metadata": {},
   "outputs": [
    {
     "data": {
      "text/plain": [
       "complex"
      ]
     },
     "execution_count": 3,
     "metadata": {},
     "output_type": "execute_result"
    }
   ],
   "source": [
    "complex_example1 = 2 + 3j\n",
    "complex_example2 = 54j\n",
    "complex_example3 = 78 - 67j\n",
    "complex_example4 = 12 + 7j + 78 + 21j   # (90+28j)\n",
    "\n",
    "type(complex_example4)"
   ]
  },
  {
   "cell_type": "markdown",
   "metadata": {},
   "source": [
    "### Boolean (bool)"
   ]
  },
  {
   "cell_type": "markdown",
   "metadata": {},
   "source": [
    "- <b>Boolean</b> values can either represent <b>True</b> or <b>False</b>\n",
    "- Notice the uppercase <b>T</b> in <b>True</b> and uppercase <b>F</b> in <b>False</b>"
   ]
  },
  {
   "cell_type": "markdown",
   "metadata": {},
   "source": [
    "#### Examples"
   ]
  },
  {
   "cell_type": "code",
   "execution_count": null,
   "metadata": {},
   "outputs": [],
   "source": [
    "bool_example1 = True\n",
    "bool_example2 = 2 > 5          # False, because 2 is less than 5 not greater than 5\n",
    "bool_example3 = True and False # False, remember the value will only be True in the case of 'and'  if both values are True\n",
    "bool_example4 = not False      # True"
   ]
  }
 ],
 "metadata": {
  "kernelspec": {
   "display_name": "Python 3",
   "language": "python",
   "name": "python3"
  },
  "language_info": {
   "codemirror_mode": {
    "name": "ipython",
    "version": 3
   },
   "file_extension": ".py",
   "mimetype": "text/x-python",
   "name": "python",
   "nbconvert_exporter": "python",
   "pygments_lexer": "ipython3",
   "version": "3.6.5"
  }
 },
 "nbformat": 4,
 "nbformat_minor": 2
}
