{
 "cells": [
  {
   "cell_type": "markdown",
   "metadata": {},
   "source": [
    "# Functions"
   ]
  },
  {
   "cell_type": "markdown",
   "metadata": {},
   "source": [
    "- Functions are a group of statements that perform a specific task\n",
    "- Functions are used for code reusability\n",
    "- The values you write inside functions are called arguments"
   ]
  },
  {
   "cell_type": "markdown",
   "metadata": {},
   "source": [
    "## Types of Functions\n",
    "- Two types of Functions in Python\n",
    "    - Built-in Functions\n",
    "    - User-defined Functions "
   ]
  },
  {
   "cell_type": "markdown",
   "metadata": {},
   "source": [
    "### Built-in Functions"
   ]
  },
  {
   "cell_type": "markdown",
   "metadata": {},
   "source": [
    "- Functions which are always available for us to use\n",
    "- While calling functions we have to use parentheses()"
   ]
  },
  {
   "cell_type": "markdown",
   "metadata": {},
   "source": [
    "#### Examples"
   ]
  },
  {
   "cell_type": "code",
   "execution_count": null,
   "metadata": {},
   "outputs": [],
   "source": [
    "print(\"Hello, from print function\")    # print() is a built-in function, \"Hello, functions\" is an argument of print() function\n",
    "\n",
    "type({1, 2, 3, 5})           # type() is also a built-in functions\n",
    "\n",
    "len([1, 5, 2, 5, 65])\n",
    "\n",
    "sum((45, 23, 543, 345))\n",
    "\n",
    "#There are around 69 built-in functions in Python as of Python 3.7 this number may vary according to version"
   ]
  },
  {
   "cell_type": "markdown",
   "metadata": {},
   "source": [
    "### User-defined Functions"
   ]
  },
  {
   "cell_type": "markdown",
   "metadata": {},
   "source": [
    "- If you want you own functionality, you can create your own functions\n",
    "- Two types of User-defined Functions\n",
    "    - Named Functions\n",
    "    - Unnamed (or) Anonymous (or) Lambda Functions"
   ]
  },
  {
   "cell_type": "markdown",
   "metadata": {},
   "source": [
    "#### Named Functions\n",
    "- As the name suggests, functions which have a name\n",
    "- Named Functions are written using the keyword 'def'"
   ]
  },
  {
   "cell_type": "markdown",
   "metadata": {},
   "source": [
    "##### Examples"
   ]
  },
  {
   "cell_type": "code",
   "execution_count": null,
   "metadata": {},
   "outputs": [],
   "source": [
    "def display():\n",
    "    print(\"Hello, from display() function\")\n",
    "    \n",
    "#Syntax of the named functions\n",
    "# 1) keyword 'def'\n",
    "# 2) name of the function example: display, function names can't have space between them\n",
    "# 3) parentheses() and colon:\n",
    "# 4) Indent and start writing the code\n",
    "\n",
    "#You can call this function using below syntax\n",
    "display()      #Output: Hello, from display() function\n",
    "\n",
    "#Functions with Parameters\n",
    "\n",
    "def add_two_numbers(param1, param2):\n",
    "    return param1 + param2\n",
    "\n",
    "#Decoding the add_two_numbers() function\n",
    "# 1) Name of the function is add_two_numbers\n",
    "# 2) I passed two variables inside the brackets, those variables are called parameters\n",
    "# 3) Then, 'return' keyword\n",
    "# 4) This function adds two numbers, strings\n",
    "\n",
    "#If your function doesn't have a return statement, by default None is returned.\n",
    "\n",
    "add_two_numbers(1, 2)               #Output: 3\n",
    "add_two_numbers('func','tions')     #Output: 'functions'\n",
    "\n",
    "#In add_two_numbers('func','tions'), 'func' and 'tions' are called arguments\n",
    "\n",
    "arg1 = 20\n",
    "arg2 = 90\n",
    "\n",
    "add_two_numbers(arg1, arg2)        #Output:  110\n",
    "\n",
    "#Functions with default parameters\n",
    "\n",
    "def subtract(a, b=0):\n",
    "    return a - b\n",
    "\n",
    "subtract(20)         #Output: 20, because 20 - 0 is 20\n",
    "subtract(20, 10)     #Output: 10, because 20 - 10 is 10\n",
    "subtract(b=90, a=12) #Output: -78\n",
    "subtract(34, b=2)    #Output: 32\n",
    "subtract(a=23, 3)    #Output: Error, because 'a' is known as keyword arguments and keyword arguments should be at the end while\n",
    "                     #calling the function and b is a positional argument.\n",
    "\n",
    "#subtract(a, b=0), b is default parameter here.\n",
    "#Default parameter should always be at the end in the function parameters\n",
    "\n",
    "#We wrote a program that adds two numbers, what if we want to write a program that adds n numbers.\n",
    "#we can use '*args'\n",
    "\n",
    "def add_all(*numbers):\n",
    "    return sum(numbers)\n",
    "\n",
    "add_all(1, 2, 3, 4, 5)       #Output: 15\n",
    "\n",
    "#While declaring parameters if you specify '*' in front of an parameter it means you can specify any number of arguments\n",
    "\n",
    "#To specify n number of keyword arguments we can use '**kwargs'\n",
    "\n",
    "def positional_arguments(**kwargs):\n",
    "    return kwargs\n",
    "\n",
    "positional_arguments(name='zidane', team='France', coach='Real Madrid') #Output: \n",
    "                                                                        #{'name': 'zidane', 'team': 'France', 'coach': 'Real Madrid'}\n",
    "    \n",
    "#**kwargs means that input is taken in form of a dictionary, that's why the output is a dictionary\n",
    "\n"
   ]
  },
  {
   "cell_type": "markdown",
   "metadata": {},
   "source": [
    "#### Lambda Functions\n",
    "- Lambda functions are one-line functions\n",
    "- They are used to write small functions"
   ]
  },
  {
   "cell_type": "markdown",
   "metadata": {},
   "source": [
    "##### Examples"
   ]
  },
  {
   "cell_type": "code",
   "execution_count": null,
   "metadata": {},
   "outputs": [],
   "source": [
    "print_name = lambda name: print(name)\n",
    "\n",
    "print_name(\"PYTHON\")    #Output: PYTHON\n",
    "\n",
    "#Syntax of lambda functions\n",
    "# 1) 'lambda' keyword\n",
    "# 2) parameters\n",
    "# 3) colon\n",
    "# 4) functionality\n",
    "\n",
    "#NOTE: lambda functions can't have a return statement and the whole lambda funciton should be written in one line\n",
    "\n",
    "#You might be thinking that lambda functions doesn't have a name but we are calling them using print_name.\n",
    "#Yes, it's true print_name is not a function but a variables that points to the lambda function present in memory\n",
    "# If you delete the variable print_name, you won't be able to use up the lambda function\n",
    "\n",
    "#Here's a lambda function that squares the number\n",
    "\n",
    "square = lambda x: x**2\n",
    "\n",
    "square(2)   #Output: 4\n",
    "\n",
    "#Function to add n numbers\n",
    "\n",
    "add_all = lambda *args: print(sum(args))\n",
    "\n",
    "add_all(1,2,3,4,5,6,7)      #Output: 28"
   ]
  },
  {
   "cell_type": "code",
   "execution_count": null,
   "metadata": {},
   "outputs": [],
   "source": []
  }
 ],
 "metadata": {
  "kernelspec": {
   "display_name": "Python 3",
   "language": "python",
   "name": "python3"
  },
  "language_info": {
   "codemirror_mode": {
    "name": "ipython",
    "version": 3
   },
   "file_extension": ".py",
   "mimetype": "text/x-python",
   "name": "python",
   "nbconvert_exporter": "python",
   "pygments_lexer": "ipython3",
   "version": "3.6.5"
  }
 },
 "nbformat": 4,
 "nbformat_minor": 2
}
