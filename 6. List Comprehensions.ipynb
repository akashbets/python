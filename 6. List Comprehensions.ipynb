{
 "cells": [
  {
   "cell_type": "markdown",
   "metadata": {},
   "source": [
    "# List Comprehensions"
   ]
  },
  {
   "cell_type": "markdown",
   "metadata": {},
   "source": [
    "- List Comprehensions are a faster, better and concise altaernatives for loops\n",
    "- List Comprehensions are very similar to Generator Expressions"
   ]
  },
  {
   "cell_type": "markdown",
   "metadata": {},
   "source": [
    "<img src=\"lc.jpg\">"
   ]
  },
  {
   "cell_type": "markdown",
   "metadata": {},
   "source": [
    "### Examples"
   ]
  },
  {
   "cell_type": "code",
   "execution_count": null,
   "metadata": {},
   "outputs": [],
   "source": [
    "# Simple program to add numbers 1 to 50 in a list\n",
    "numbers_1_50 = [x for x in range(1, 51)]\n",
    "\n",
    "\n",
    "# Above program using loops,\n",
    "numbers = []\n",
    "for i in range(1, 51):\n",
    "    numbers.append(i)\n",
    "# As you can see using list comprehension is better\n",
    "\n",
    "# Program to select odd numbers in 1 to 50\n",
    "odd_numbers_1_50 = [x for x in range(1, 51) if x%2!=0]"
   ]
  },
  {
   "cell_type": "markdown",
   "metadata": {},
   "source": [
    "### More Examples"
   ]
  },
  {
   "cell_type": "code",
   "execution_count": null,
   "metadata": {},
   "outputs": [],
   "source": [
    "# Program to sum all the numbers in a list, input given by the user\n",
    "sum_input = sum([x for x in range(1, int(input(\"Enter the maximum limit: \")))])\n",
    "\n",
    "# You can split a word into letters easily,\n",
    "letters = [letter for letter in 'human']\n",
    "\n"
   ]
  },
  {
   "cell_type": "markdown",
   "metadata": {},
   "source": [
    "### Simple Exercises"
   ]
  },
  {
   "cell_type": "markdown",
   "metadata": {},
   "source": [
    "- Write a list comprehension to square and cube numbers\n",
    "- Write a list comprehensoin to get all the even numbers between 1 and 100\n",
    "- Write a program to get all multiples of 3 and 5 using list comprehension\n",
    "- Write a program to transpose of a matrix"
   ]
  }
 ],
 "metadata": {
  "kernelspec": {
   "display_name": "Python 3",
   "language": "python",
   "name": "python3"
  },
  "language_info": {
   "codemirror_mode": {
    "name": "ipython",
    "version": 3
   },
   "file_extension": ".py",
   "mimetype": "text/x-python",
   "name": "python",
   "nbconvert_exporter": "python",
   "pygments_lexer": "ipython3",
   "version": "3.6.5"
  }
 },
 "nbformat": 4,
 "nbformat_minor": 2
}
