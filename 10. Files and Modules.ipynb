{
 "cells": [
  {
   "cell_type": "markdown",
   "metadata": {},
   "source": [
    "# Files"
   ]
  },
  {
   "cell_type": "markdown",
   "metadata": {},
   "source": [
    "- File handling in Python is used for processing text files.\n",
    "- File is a named location on disk to store related information. It is used to permanently store data in a non-volatile memory (e.g. hard disk).\n",
    "- Since, random access memory (RAM) is volatile which loses its data when computer is turned off, we use files for future use of the data."
   ]
  },
  {
   "cell_type": "markdown",
   "metadata": {},
   "source": [
    "## Order of file operations"
   ]
  },
  {
   "cell_type": "markdown",
   "metadata": {},
   "source": [
    "- Open a file\n",
    "- Read or Write\n",
    "- Close the file"
   ]
  },
  {
   "cell_type": "markdown",
   "metadata": {},
   "source": [
    "### Opening a File"
   ]
  },
  {
   "cell_type": "markdown",
   "metadata": {},
   "source": [
    "- File can be opened in <b>Read(r)</b>, <b>Write(w)</b>, <b>Append(a)</b>, or <b>Read and Write(r+)</b>, <b>Binary(b)</b> mode.\n",
    "- If the file is <b>not present</b> and you are trying to open the file in <b>Read</b> mode, an error will be thrown.\n",
    "- If the file is <b>not present</b> and you are trying to open the file in <b>Write</b> mode, a new file will bre created. The same goes with <b>Append</b> Mode.\n",
    "- The default mode is <b>read(r)</b> mode."
   ]
  },
  {
   "cell_type": "markdown",
   "metadata": {},
   "source": [
    "#### Example"
   ]
  },
  {
   "cell_type": "code",
   "execution_count": null,
   "metadata": {},
   "outputs": [],
   "source": [
    "f = open('C://Users/Afzaal-SU/Desktop/sample.txt', 'r') # An error will be thrown, because the file does not exist\n",
    "f = open('C://Users/Afzaal-SU/Desktop/sample.txt', 'w') # A new file will be created if the sample.txt doesn't exist\n",
    "\n",
    "# Suppose I open a file in r+ mode i.e. read and write.\n",
    "f = open('C://Users/Afzaal-SU/Desktop/sample.txt', 'r+')\n",
    "\n",
    "# To read all the content of the file,\n",
    "f.read()\n",
    "\n",
    "# To go back to the starting of the file,\n",
    "f.seek(0)\n",
    "\n",
    "# To write to a file,\n",
    "f.write('Hello. Writing this from code.')\n",
    "# If you write to a file, and the file is opened in 'w', the previous data will be deleted from the file.\n",
    "\n",
    "# To close a file\n",
    "f.close()\n",
    "\n",
    "# If an exception occurs, the file won't be closed. The safer way to use is with block.\n",
    "\n",
    "with open('C://Users/Afzaal-SU/Desktop/sample.txt', 'r+') as f:\n",
    "    f.write('Testing')\n",
    "    f.read()\n",
    "    f.seek(0)\n",
    "    \n",
    "# The file will automatically be closed after the end of the block."
   ]
  },
  {
   "cell_type": "markdown",
   "metadata": {},
   "source": [
    "# Modules"
   ]
  },
  {
   "cell_type": "markdown",
   "metadata": {},
   "source": [
    "- A file which has <b>.py</b> extension is called a module.\n",
    "- We use modules to break down <b>large</b> programs into <b>small</b> manageable and organized files."
   ]
  },
  {
   "cell_type": "markdown",
   "metadata": {},
   "source": [
    "## Types of Modules\n",
    "- <b>Built-in Modules</b>\n",
    "- <b>Custom (or) User-defined</b> Modules"
   ]
  },
  {
   "cell_type": "markdown",
   "metadata": {},
   "source": [
    "### Built-in Modules"
   ]
  },
  {
   "cell_type": "markdown",
   "metadata": {},
   "source": [
    "#### Examples"
   ]
  },
  {
   "cell_type": "code",
   "execution_count": null,
   "metadata": {},
   "outputs": [],
   "source": [
    "# There are many built-in modules in Python, some of them are os, sys, collections, datetime, warnings, math\n",
    "\n",
    "import os    # importing the os module\n",
    "os.getcwd()  # Accessing a function of a module using '.' notation\n",
    "\n",
    "from collections import Counter   # Importing only Counter function from collections\n",
    "Counter([1,2,3,4,5]) # Need not use '.' notation\n",
    "\n",
    "from os import *  # Importing all function, classes, variables from os modules\n",
    "getcwd()    # Directly accessing a function\n",
    "\n",
    "import math as m  # Aliasing 'math' as 'm'\n",
    "m.pi     # Accessing 'pi' variable stored in math module.\n",
    "\n",
    "# Did you know?\n",
    "# The print(), type(), len() and many more functions which we uase are actually stored in a module called __builtins__.py\n",
    "# __builtins__.py is automatically loaded when we open the Python interpreter.\n",
    "\n",
    "# Collections of modules is called a Package (or) Library.\n",
    "# Famous libraries such as Numpy, Pandas, Matplotlib are packages."
   ]
  },
  {
   "cell_type": "markdown",
   "metadata": {},
   "source": [
    "List of all modules in python https://docs.python.org/3/py-modindex.html"
   ]
  },
  {
   "cell_type": "markdown",
   "metadata": {},
   "source": [
    "### Custom Modules"
   ]
  },
  {
   "cell_type": "markdown",
   "metadata": {},
   "source": [
    "#### Examples"
   ]
  },
  {
   "cell_type": "code",
   "execution_count": null,
   "metadata": {},
   "outputs": [],
   "source": [
    "# Instead of using a built-in module you can define one on your own.\n",
    "\n",
    "# Let's say you have the below code in a file callled sample.py\n",
    "def add_n_numbers(n):\n",
    "    return (n*(n+1))/2\n",
    "\n",
    "# To access this function, you need to type\n",
    "import example   # This will only work if the interpreter and sample.py are in the same directory.\n",
    "example.add_n_numbers(5)  # Output: 15\n",
    "\n",
    "# If the sample.py and interpreter are not present in the same directory, you need to change the directory using below code\n",
    "import os\n",
    "os.chdir('Path where the sample.py is stored')"
   ]
  }
 ],
 "metadata": {
  "kernelspec": {
   "display_name": "Python 3",
   "language": "python",
   "name": "python3"
  },
  "language_info": {
   "codemirror_mode": {
    "name": "ipython",
    "version": 3
   },
   "file_extension": ".py",
   "mimetype": "text/x-python",
   "name": "python",
   "nbconvert_exporter": "python",
   "pygments_lexer": "ipython3",
   "version": "3.6.5"
  }
 },
 "nbformat": 4,
 "nbformat_minor": 2
}
