{
 "cells": [
  {
   "cell_type": "markdown",
   "metadata": {},
   "source": [
    "# Operators"
   ]
  },
  {
   "cell_type": "markdown",
   "metadata": {},
   "source": [
    "- An <b>Operator</b> is a symbol which operates on a value or a variable"
   ]
  },
  {
   "cell_type": "markdown",
   "metadata": {},
   "source": [
    "## Python has various types of Operators\n",
    "\n",
    "- <b>Arithmetic</b>\n",
    "- <b>Bitwise</b>\n",
    "- <b>Assignment</b>\n",
    "- <b>Comparison</b>\n",
    "- <b>Boolean</b>\n",
    "- <b>Identity and Membership Operators</b>"
   ]
  },
  {
   "cell_type": "markdown",
   "metadata": {},
   "source": [
    "### Arithmetic Operators"
   ]
  },
  {
   "cell_type": "markdown",
   "metadata": {},
   "source": [
    "- As the name suggests it is used to arithmetic\n",
    "- Operators\n",
    "    - Addition (<b>+</b>)\n",
    "    - Subtraction (<b>-</b>)\n",
    "    - Multiplication (<b>*</b>)\n",
    "    - Division (<b>/</b>)\n",
    "    - Modulo (or) Remainder (<b>%</b>)\n",
    "    - Integer Division (<b>//</b>)\n",
    "    - Exponent (<b>**</b>)"
   ]
  },
  {
   "cell_type": "markdown",
   "metadata": {},
   "source": [
    "#### Examples"
   ]
  },
  {
   "cell_type": "code",
   "execution_count": 3,
   "metadata": {},
   "outputs": [
    {
     "name": "stdout",
     "output_type": "stream",
     "text": [
      "14\n",
      "-18\n",
      "108\n",
      "2.5\n",
      "3\n",
      "2\n",
      "64\n"
     ]
    }
   ],
   "source": [
    "print(10 + 4)   #14   # Addition, by the way statements starting with # are called comments they are ignored by the Python Interpreter\n",
    "\n",
    "print(5 - 23)   #-18   # Subtraction\n",
    "\n",
    "print(9 * 12)   #108   # Multiplication\n",
    "\n",
    "print(5 / 2)    #2.5   # Division\n",
    "\n",
    "print(7 % 4)    #3   # Remainder of dividing 7 with 4\n",
    "\n",
    "print(8 // 3)   #2   # Integer division truncates the decimal part\n",
    "\n",
    "print(8 ** 2)   #64   # Output: 64, because 8 ** 8 is 64"
   ]
  },
  {
   "cell_type": "markdown",
   "metadata": {},
   "source": [
    "### Bitwise Operators"
   ]
  },
  {
   "cell_type": "markdown",
   "metadata": {},
   "source": [
    "- Used to work with bits i.e. the unit of information of a computer\n",
    "- Operators\n",
    "    - Compliment (<b>~</b>)\n",
    "    - Bitwise AND (<b>&amp;</b>)\n",
    "    - Bitwise OR (<b> | </b>)\n",
    "    - Bitwise XOR (<b>^</b>)\n",
    "    - Left Shift (<b>&lt;&lt;</b>)\n",
    "    - Right Shift (<b>&gt;&gt;</b>)"
   ]
  },
  {
   "cell_type": "code",
   "execution_count": null,
   "metadata": {},
   "outputs": [],
   "source": [
    "~10       # First converts 10 to binary form and then reverses the bits output: -11\n",
    "\n",
    "5 & 6     # 1 if both the bits are 1, 0 if any one of them or both of them is 0 ouput: 4\n",
    "\n",
    "6 | 8     # 1 if any one of the bit is 1 or both are 1, 0 if both the bits are zero output: 14\n",
    "\n",
    "4 ^ 9     # 1 if the bits are different i.e. 1 0 or 0 1, 0 if both bits are same i.e. 0 0 or 1 1 output: 13\n",
    "\n",
    "5 << 2    # Add two more zeros at the end of the bits output: 20\n",
    "\n",
    "7 >> 2    # Remove the last two bits output: 1"
   ]
  },
  {
   "cell_type": "markdown",
   "metadata": {},
   "source": [
    "### Assignment Operators"
   ]
  },
  {
   "cell_type": "markdown",
   "metadata": {},
   "source": [
    "- Used to assign values to variables\n",
    "- Operators\n",
    "    - (<b>=</b>)\n",
    "    - (<b>+=</b>)\n",
    "    - (<b>-=</b>)\n",
    "    - (<b>*=</b>)\n",
    "    - (<b>/=</b>)\n",
    "    - (<b>%=</b>)"
   ]
  },
  {
   "cell_type": "code",
   "execution_count": 5,
   "metadata": {},
   "outputs": [
    {
     "name": "stdout",
     "output_type": "stream",
     "text": [
      "1.0\n"
     ]
    }
   ],
   "source": [
    "a = 5    # a will now store the value of 5\n",
    "\n",
    "a += 3  # 8  # This statement will be interpreted as a = a + 3 which is a = 8\n",
    "\n",
    "a -= 2  #6  # Will be interpreted as a = a - 2 which in turn is a = 6\n",
    "\n",
    "a *= 4  #24  # a = a * 4 which is a = 6 * 4; a = 24\n",
    "\n",
    "a /= 8  #3  # a = a / 8; a = 3\n",
    "\n",
    "a %= 2  #1  # a = a % 2; a = 1\n",
    "print(a)"
   ]
  },
  {
   "cell_type": "markdown",
   "metadata": {},
   "source": [
    "### Comparison Operators"
   ]
  },
  {
   "cell_type": "markdown",
   "metadata": {},
   "source": [
    "- Used to compare values\n",
    "- Operators\n",
    "    - Less than (<b>&lt;</b>)\n",
    "    - Greater than (<b>&gt;</b>)\n",
    "    - Less than or equal to (<b>&lt;=</b>)\n",
    "    - Greater than or equal to (<b>&gt;=</b>)\n",
    "    - Equal to (<b>==</b>)\n",
    "    - Not equal to (<b>!=</b>)"
   ]
  },
  {
   "cell_type": "code",
   "execution_count": 6,
   "metadata": {},
   "outputs": [
    {
     "name": "stdout",
     "output_type": "stream",
     "text": [
      "True\n",
      "False\n",
      "True\n",
      "True\n",
      "False\n",
      "True\n"
     ]
    }
   ],
   "source": [
    "print(5 < 6)   # True  # Output: True. indeed 5 is less than 6\n",
    "\n",
    "print(7 > 9)   # False  # Output: False. because 7 is less than 9 not greater than 9\n",
    "\n",
    "print(2 <= 8)  # True  # Output: True. because 2 is less than 8 but not equal to 8 either it shoould be equal or less than\n",
    "\n",
    "print(3 >= 3)  # True  # Output: True. because 3 is not greater than 3 but it is equal to 3\n",
    "\n",
    "print(5 == 6)  # False  # Output: False. yes, 5 is not equal to 6\n",
    "\n",
    "print(7 != 0)  # True  # Output: True. because 7 is not equal to 0"
   ]
  },
  {
   "cell_type": "markdown",
   "metadata": {},
   "source": [
    "### Boolean Operators"
   ]
  },
  {
   "cell_type": "markdown",
   "metadata": {},
   "source": [
    "- Used to compare boolean values i.e. True and False\n",
    "- Operators\n",
    "    - Boolean (<b>and</b>)\n",
    "    - Bolean (<b>or</b>)\n",
    "    - Boolean (<b>not</b>)"
   ]
  },
  {
   "cell_type": "code",
   "execution_count": 7,
   "metadata": {},
   "outputs": [
    {
     "name": "stdout",
     "output_type": "stream",
     "text": [
      "False\n",
      "True\n",
      "False\n"
     ]
    }
   ],
   "source": [
    "print(True and False)   # Output: False. 'and' returns true if both the operands are True, otherwise False\n",
    "\n",
    "print(True or False)    # Output: True.  'or' returns true if any or both of the operands are True\n",
    "\n",
    "print(not True)         # Output: False.  'not' returns the oppsite of what's given, if given False it returns True"
   ]
  },
  {
   "cell_type": "markdown",
   "metadata": {},
   "source": [
    "### Identity and Membership Operators"
   ]
  },
  {
   "cell_type": "markdown",
   "metadata": {},
   "source": [
    "#### Identity Operators"
   ]
  },
  {
   "cell_type": "markdown",
   "metadata": {},
   "source": [
    "- Used to check the if both the objects refer to the same location in memory\n",
    "- Operators\n",
    "    - (<b>is</b>)\n",
    "    - (<b>is not</b>)"
   ]
  },
  {
   "cell_type": "code",
   "execution_count": 16,
   "metadata": {},
   "outputs": [
    {
     "name": "stdout",
     "output_type": "stream",
     "text": [
      "False\n",
      "True\n",
      "a == b True\n",
      "ID a 2035127391472\n",
      "ID b 2035127393072\n"
     ]
    }
   ],
   "source": [
    "a = 276\n",
    "\n",
    "b = 276\n",
    "\n",
    "print(a is b)          # Output: False. Because if you check id(a) and then id(b) they aren't equal. Which means they both refer to\n",
    "                 # different memory locations\n",
    "\n",
    "print(a is not b)       # Output: True. Because they both refer to different memory locations\n",
    "\n",
    "print('a == b',a == b)\n",
    "print('ID a', id(a))\n",
    "print('ID b', id(b))"
   ]
  },
  {
   "cell_type": "markdown",
   "metadata": {},
   "source": [
    "#### Membership Operators"
   ]
  },
  {
   "cell_type": "markdown",
   "metadata": {},
   "source": [
    "- Used to check if a value is present in a sequence (list, tuple, set, dictionary, strings)\n",
    "- Operators\n",
    "    - (<b>in</b>)\n",
    "    - (<b>not in</b>)"
   ]
  },
  {
   "cell_type": "code",
   "execution_count": 20,
   "metadata": {},
   "outputs": [
    {
     "name": "stdout",
     "output_type": "stream",
     "text": [
      "True\n",
      "False\n",
      "True\n"
     ]
    }
   ],
   "source": [
    "name = 'Python'  # This is a string. we'll learn more about strings in upcoming chapters\n",
    "\n",
    "print('ho' in name)    # True   # Output: True. Because 'ho' is present in name\n",
    "\n",
    "print('p' in name)     # False # Output: False. Because lowercase 'p' is not present in name but uppercase 'P' is present. It's case-sensitive\n",
    "\n",
    "print('J' not in name) # True # Output: True. Indeed, 'J' is not present in name"
   ]
  },
  {
   "cell_type": "code",
   "execution_count": null,
   "metadata": {},
   "outputs": [],
   "source": []
  }
 ],
 "metadata": {
  "kernelspec": {
   "display_name": "Python 3",
   "language": "python",
   "name": "python3"
  },
  "language_info": {
   "codemirror_mode": {
    "name": "ipython",
    "version": 3
   },
   "file_extension": ".py",
   "mimetype": "text/x-python",
   "name": "python",
   "nbconvert_exporter": "python",
   "pygments_lexer": "ipython3",
   "version": "3.6.5"
  }
 },
 "nbformat": 4,
 "nbformat_minor": 2
}
